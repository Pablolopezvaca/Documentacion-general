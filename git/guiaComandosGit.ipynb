{
 "cells": [
  {
   "cell_type": "markdown",
   "id": "9f198691-d576-453b-8901-69ecf04790a4",
   "metadata": {},
   "source": [
    "# Guía de Comandos Git"
   ]
  },
  {
   "cell_type": "markdown",
   "id": "57943e90-5778-4c07-b8bc-88c646a74e1c",
   "metadata": {},
   "source": [
    "Este documento es una referencia rápida con todos los comandos de **Git** organizados por su utilidad y contexto de uso.\n"
   ]
  },
  {
   "cell_type": "markdown",
   "id": "48f395c2-befc-47b2-8db8-587c0eaad226",
   "metadata": {},
   "source": [
    "## 1. Comandos básicos de configuración y creación de repositorios\n",
    "Estos comandos te permiten iniciar un proyecto con Git, configurarlo y clonar repositorios."
   ]
  },
  {
   "cell_type": "code",
   "execution_count": null,
   "id": "63080604-5104-490b-8536-6819f72071ea",
   "metadata": {},
   "outputs": [],
   "source": [
    "# Inicializa un nuevo repositorio en el directorio actual\n",
    "git init\n",
    "\n",
    "# Clona un repositorio remoto en tu máquina local\n",
    "git clone https://github.com/usuario/repositorio.git\n",
    "\n",
    "# Configura el nombre de usuario y correo electrónico para Git\n",
    "git config --global user.name \"Tu Nombre\"\n",
    "git config --global user.email \"tuemail@example.com\"\n",
    "\n",
    "# Lista todas las configuraciones de Git\n",
    "git config --list"
   ]
  },
  {
   "cell_type": "markdown",
   "id": "d1cc51c7-9a1a-4da3-84b5-c4d9a1d03da3",
   "metadata": {},
   "source": [
    "## 2. Comandos para hacer seguimiento de cambios\n",
    "\n",
    "Estos comandos permiten controlar y gestionar los archivos de un proyecto.\n"
   ]
  },
  {
   "cell_type": "code",
   "execution_count": null,
   "id": "c90360d4-8a1b-49d1-b148-27c93879aa8b",
   "metadata": {},
   "outputs": [],
   "source": [
    "# Muestra el estado del repositorio\n",
    "git status\n",
    "\n",
    "# Añade un archivo específico al área de preparación\n",
    "git add archivo.txt\n",
    "\n",
    "# Añade todos los archivos modificados al área de preparación\n",
    "git add .\n",
    "\n",
    "# Confirma los cambios en el historial con un mensaje\n",
    "git commit -m \"Añadiendo cambios importantes\"\n",
    "\n",
    "# Modifica el último commit\n",
    "git commit --amend -m \"Actualizando mensaje del último commit\"\n",
    "\n",
    "# Muestra las diferencias entre los archivos no confirmados\n",
    "git diff"
   ]
  },
  {
   "cell_type": "markdown",
   "id": "8c2fbc38-985e-4548-8ebd-159c5d6e993c",
   "metadata": {},
   "source": [
    "## 3. Comandos de trabajo con ramas\n",
    "\n",
    "Las ramas son fundamentales para gestionar el flujo de trabajo en Git. Estos comandos permiten crear y gestionar ramas."
   ]
  },
  {
   "cell_type": "code",
   "execution_count": null,
   "id": "9783724c-c964-4eef-a0ba-2fe84dfbb1f0",
   "metadata": {},
   "outputs": [],
   "source": [
    "# Lista todas las ramas existentes en el repositorio\n",
    "git branch\n",
    "\n",
    "# Crea una nueva rama\n",
    "git branch nueva_rama\n",
    "\n",
    "# Cambia a una rama existente\n",
    "git checkout nueva_rama\n",
    "\n",
    "# Crea y cambia a una nueva rama al mismo tiempo\n",
    "git checkout -b otra_rama\n",
    "\n",
    "# Fusiona la rama especificada en la rama actual\n",
    "git merge otra_rama\n",
    "\n",
    "# Elimina una rama que ya no es necesaria\n",
    "git branch -d otra_rama"
   ]
  },
  {
   "cell_type": "markdown",
   "id": "12efc5be-bac7-43b7-8cc8-68cfb1ad9579",
   "metadata": {},
   "source": [
    "## 4. Comandos para trabajar con repositorios remotos\n",
    "\n",
    "Estos comandos se utilizan para trabajar con servidores remotos, permitiendo enviar y recibir cambios desde y hacia otros desarrolladores.\n"
   ]
  },
  {
   "cell_type": "code",
   "execution_count": null,
   "id": "2225bbc8-7993-4f7a-a9eb-5decae1846bc",
   "metadata": {},
   "outputs": [],
   "source": [
    "# Lista los repositorios remotos configurados\n",
    "git remote\n",
    "\n",
    "# Configura un repositorio remoto llamado \"origin\"\n",
    "git remote add origin https://github.com/usuario/repositorio.git\n",
    "\n",
    "# Descarga los cambios del repositorio remoto\n",
    "git fetch origin\n",
    "\n",
    "# Fusiona los cambios del repositorio remoto con tu rama local\n",
    "git pull origin main\n",
    "\n",
    "# Envía los commits locales a una rama en el repositorio remoto\n",
    "git push origin main"
   ]
  },
  {
   "cell_type": "markdown",
   "id": "9b1edaec-336a-42bf-a093-39076fa6da6f",
   "metadata": {},
   "source": [
    "## 5. Comandos para historial y revisión de cambios\n",
    "\n",
    "Git permite ver el historial de cambios realizados en el proyecto, quién los hizo y qué modificaciones incluyeron."
   ]
  },
  {
   "cell_type": "code",
   "execution_count": null,
   "id": "da0f4dbb-1e2d-418a-ac5a-b6b2572bbc8e",
   "metadata": {},
   "outputs": [],
   "source": [
    "# Muestra el historial de commits del proyecto\n",
    "git log\n",
    "\n",
    "# Muestra el historial de commits en un formato compacto\n",
    "git log --oneline\n",
    "\n",
    "# Muestra los detalles de un commit específico\n",
    "git show 123abc456\n",
    "\n",
    "# Muestra quién realizó qué cambios en cada línea de un archivo\n",
    "git blame archivo.txt"
   ]
  },
  {
   "cell_type": "markdown",
   "id": "0463a6ba-0c0f-4b04-917c-93f800bd92e0",
   "metadata": {},
   "source": [
    "## 6. Comandos de deshacer cambios\n",
    "\n",
    "Estos comandos son útiles para corregir errores o deshacer cambios que no deseas mantener."
   ]
  },
  {
   "cell_type": "code",
   "execution_count": null,
   "id": "c8681783-f906-4bca-b241-ac6f00e93b16",
   "metadata": {},
   "outputs": [],
   "source": [
    "# Elimina el archivo del área de preparación\n",
    "git reset archivo.txt\n",
    "\n",
    "# Vuelve al estado de un commit específico y descarta todos los cambios posteriores\n",
    "git reset --hard 123abc456\n",
    "\n",
    "# Revierta los cambios de un commit anterior\n",
    "git revert 123abc456\n",
    "\n",
    "# Elimina archivos no rastreados del directorio de trabajo\n",
    "git clean -f"
   ]
  },
  {
   "cell_type": "markdown",
   "id": "68740e75-2ce9-424f-a13e-f61b1dbad4bf",
   "metadata": {},
   "source": [
    "## 7. Comandos de colaboración y revisión\n",
    "\n",
    "Cuando trabajas en equipo, estos comandos te ayudan a coordinar y gestionar los cambios realizados por diferentes colaboradores."
   ]
  },
  {
   "cell_type": "code",
   "execution_count": null,
   "id": "37b5f102-fdf3-4da2-9651-387d93fe7884",
   "metadata": {},
   "outputs": [],
   "source": [
    "# Guarda los cambios actuales de manera temporal\n",
    "git stash\n",
    "\n",
    "# Aplica los cambios guardados y los elimina del stash\n",
    "git stash pop\n",
    "\n",
    "# Crea una etiqueta en un commit para señalar versiones importantes\n",
    "git tag v1.0"
   ]
  },
  {
   "cell_type": "markdown",
   "id": "d66579a4-ff7e-4b82-92c1-3a02006562c7",
   "metadata": {},
   "source": [
    "## 8. Comandos avanzados\n",
    "\n",
    "Estos comandos son más avanzados, pero útiles para tareas específicas de mantenimiento, reorganización u optimización del historial de cambios.\n"
   ]
  },
  {
   "cell_type": "code",
   "execution_count": null,
   "id": "ac3d1d50-fa86-4425-b4b3-0d08c971fdb0",
   "metadata": {},
   "outputs": [],
   "source": [
    "# Mueve los commits de una rama sobre otra\n",
    "git rebase otra_rama\n",
    "\n",
    "# Aplica los cambios de un commit específico a tu rama actual\n",
    "git cherry-pick 123abc456\n",
    "\n",
    "# Muestra el historial de todas las acciones que Git ha realizado en el repositorio\n",
    "git reflog\n",
    "\n",
    "# Ayuda a encontrar el commit que introdujo un error\n",
    "git bisect start"
   ]
  },
  {
   "cell_type": "markdown",
   "id": "8ea8b505-1702-4f35-81e7-da64e9bd1aaf",
   "metadata": {},
   "source": [
    "## 9. Otros comandos útiles\n",
    "\n",
    "Comandos adicionales que no encajan en las categorías anteriores, pero que son prácticos para tareas comunes"
   ]
  },
  {
   "cell_type": "code",
   "execution_count": null,
   "id": "ace7a76b-d846-4f17-a4c8-4fa4df871128",
   "metadata": {},
   "outputs": [],
   "source": [
    "# Muestra un resumen de commits agrupados por autor\n",
    "git shortlog\n",
    "\n",
    "# Crea un archivo comprimido de una versión específica del proyecto\n",
    "git archive --format=tar HEAD > proyecto.tar\n",
    "\n",
    "# Optimiza el repositorio limpiando datos innecesarios\n",
    "git gc\n",
    "\n",
    "# Comprueba la integridad del repositorio\n",
    "git fsck"
   ]
  },
  {
   "cell_type": "markdown",
   "id": "414f5e0d-b748-411e-80ad-0cf4b797cc51",
   "metadata": {},
   "source": [
    "## 10. Ayuda y documentación\n",
    "\n",
    "Si necesitas ayuda con cualquier comando de Git, estos comandos pueden ser útiles."
   ]
  },
  {
   "cell_type": "code",
   "execution_count": null,
   "id": "1ecadccd-3d15-4b9b-b471-0ff70b681d5e",
   "metadata": {},
   "outputs": [],
   "source": [
    "# Muestra la documentación para el comando especificado\n",
    "git help commit\n",
    "\n",
    "# Muestra la versión de Git instalada\n",
    "git --version"
   ]
  },
  {
   "cell_type": "markdown",
   "id": "dd333b55-565e-4a59-a773-b59a834663d0",
   "metadata": {},
   "source": [
    "## 11. Documentación oficial\n",
    "\n",
    "https://git-scm.com/doc"
   ]
  },
  {
   "cell_type": "markdown",
   "id": "294a0c67-5232-40b8-a93e-6de6829fd92a",
   "metadata": {},
   "source": [
    "## Consejos y prácticas recomendadas"
   ]
  },
  {
   "cell_type": "markdown",
   "id": "d631fe44-3c3e-41e5-8e25-d917609a3755",
   "metadata": {},
   "source": [
    "## 1. Estructura limpia de commits\n",
    "\n",
    "Organizar tus commits es clave para que el historial sea fácil de entender. Aquí tienes algunas recomendaciones:\n",
    "\n",
    "__-  Commits pequeños y enfocados:__ Haz commits que contengan cambios relacionados entre sí. Esto facilita la revisión y la solución de problemas si algo sale mal.\n",
    "\n",
    "__-  Mensajes claros:__ Usa mensajes de commit descriptivos y consistentes. Un buen formato puede ser:"
   ]
  },
  {
   "cell_type": "code",
   "execution_count": null,
   "id": "d4b3523f-e636-4e2f-ba35-154f636128e7",
   "metadata": {},
   "outputs": [],
   "source": [
    "git commit -m \"Tipo de cambio: Descripción breve\""
   ]
  },
  {
   "cell_type": "markdown",
   "id": "bcc3eba0-a7b7-4b37-b374-d6a21ef4df18",
   "metadata": {},
   "source": [
    "Ejemplo:"
   ]
  },
  {
   "cell_type": "code",
   "execution_count": null,
   "id": "fca8bb27-d6c9-4848-9c04-6880ab7b8f55",
   "metadata": {},
   "outputs": [],
   "source": [
    "git commit -m \"fix: corregir error en la función de autenticación\""
   ]
  },
  {
   "cell_type": "markdown",
   "id": "f3776b84-9403-431f-8856-3ac6593fc65f",
   "metadata": {},
   "source": [
    "__- Usa ramas__ para separar el desarrollo de nuevas características (features), correcciones (fixes) y experimentos. Esto permite que la rama principal (main o master) mantenga siempre un estado estable."
   ]
  },
  {
   "cell_type": "markdown",
   "id": "43c40953-f638-4dd1-a4b0-4e04936ed182",
   "metadata": {},
   "source": [
    "## 2. Uso eficiente de las ramas\n",
    "\n",
    "Trabajar con ramas te permite desarrollar características o correcciones de manera aislada, sin interferir con el código principal.\n",
    "\n",
    "__- Ramas descriptivas:__ Nombra tus ramas de forma descriptiva y consistente. Ejemplos:"
   ]
  },
  {
   "cell_type": "code",
   "execution_count": null,
   "id": "04eb05d3-c45f-4163-835e-cb123c1dd7b3",
   "metadata": {},
   "outputs": [],
   "source": [
    "feature/login-system\n",
    "bugfix/error-handling"
   ]
  },
  {
   "cell_type": "markdown",
   "id": "e67d1ac6-e91d-44c8-8eb5-3513f8acb40b",
   "metadata": {},
   "source": [
    "__- Crear y cambiar a una nueva rama en un solo paso:__"
   ]
  },
  {
   "cell_type": "code",
   "execution_count": null,
   "id": "410e091f-0404-4df2-843f-a4dc104fc1ac",
   "metadata": {},
   "outputs": [],
   "source": [
    "git checkout -b nombre-de-la-rama"
   ]
  },
  {
   "cell_type": "markdown",
   "id": "b2cc792c-a330-4e96-afe3-4a3c8969369b",
   "metadata": {},
   "source": [
    "__- Eliminar ramas locales después de fusionarlas o si ya no las necesitas:__"
   ]
  },
  {
   "cell_type": "code",
   "execution_count": null,
   "id": "7900c34d-6704-4522-88fa-8676d3aedd0e",
   "metadata": {},
   "outputs": [],
   "source": [
    "git branch -d nombre-de-la-rama"
   ]
  },
  {
   "cell_type": "markdown",
   "id": "ee908161-1a94-4085-8d7c-301daef9e911",
   "metadata": {},
   "source": [
    "__- Rebase en lugar de merge:__ Para mantener un historial limpio y evitar \"commits de fusión\", puedes usar git rebase cuando integres los cambios de una rama secundaria en main o develop. Con rebase, Git aplica tus cambios de manera lineal, sin introducir commits innecesarios."
   ]
  },
  {
   "cell_type": "code",
   "execution_count": null,
   "id": "2fe02c1a-4654-4068-b621-70d1173a0e5c",
   "metadata": {},
   "outputs": [],
   "source": [
    "git checkout nombre-de-la-rama\n",
    "git rebase main"
   ]
  },
  {
   "cell_type": "markdown",
   "id": "1168db2f-c03f-4153-92af-11dc7ec03349",
   "metadata": {},
   "source": [
    "## 3. Mantén sincronizado tu repositorio\n",
    "\n",
    "__- Usa__ _git pull --rebase_ en lugar de _git pull_ para evitar commits de fusión innecesarios. Esto re-aplica tus commits encima de los cambios obtenidos del remoto."
   ]
  },
  {
   "cell_type": "code",
   "execution_count": null,
   "id": "2ee7a92c-aec8-4199-bd27-95e11d62a291",
   "metadata": {},
   "outputs": [],
   "source": [
    "git pull --rebase origin main"
   ]
  },
  {
   "cell_type": "markdown",
   "id": "d50c00ba-5938-4cd3-988a-a0f0a57a05d6",
   "metadata": {},
   "source": [
    "__- Configura un alias__ para usar _pull --rebase_ de forma predeterminada:"
   ]
  },
  {
   "cell_type": "code",
   "execution_count": null,
   "id": "ed73f393-a3c7-460b-93cf-17713019c338",
   "metadata": {},
   "outputs": [],
   "source": [
    "git config --global pull.rebase true"
   ]
  },
  {
   "cell_type": "markdown",
   "id": "ac463756-55b0-4e61-9339-d332cbb66207",
   "metadata": {},
   "source": [
    "## 4. Usa _git stash_ sabiamente\n",
    "\n",
    "El comando __git stash__ te permite guardar cambios no confirmados de manera temporal. Es útil cuando necesitas cambiar de contexto rápidamente (por ejemplo, cambiar de rama o actualizar el código antes de hacer un commit)."
   ]
  },
  {
   "cell_type": "markdown",
   "id": "8b711687-1b0e-4a25-999d-93572b3cc4b2",
   "metadata": {},
   "source": [
    "__- Guardar cambios temporalmente:__"
   ]
  },
  {
   "cell_type": "code",
   "execution_count": null,
   "id": "e72bc6e8-cd6f-4ea4-b932-c82a7287efe5",
   "metadata": {},
   "outputs": [],
   "source": [
    "git stash"
   ]
  },
  {
   "cell_type": "markdown",
   "id": "f3632768-621a-4f91-8f19-b2f16edefa23",
   "metadata": {},
   "source": [
    "__- Recuperar cambios del stash:__"
   ]
  },
  {
   "cell_type": "code",
   "execution_count": null,
   "id": "76a46503-5b2c-414d-8218-f42af2202cd0",
   "metadata": {},
   "outputs": [],
   "source": [
    "git stash pop"
   ]
  },
  {
   "cell_type": "markdown",
   "id": "814d4ba8-6b6d-4ee8-81a2-523a96fcb55b",
   "metadata": {},
   "source": [
    "__- Lista de stashes guardados:__"
   ]
  },
  {
   "cell_type": "code",
   "execution_count": null,
   "id": "8f01b4ad-8497-4b3a-a46a-6623bf604c84",
   "metadata": {},
   "outputs": [],
   "source": [
    "git stash list"
   ]
  },
  {
   "cell_type": "markdown",
   "id": "9e9ced7a-33b7-4412-813b-1989f89955a1",
   "metadata": {},
   "source": [
    "## 5. Revisión y optimización del historial\n",
    "\n",
    "Si necesitas limpiar o reestructurar tus commits antes de compartirlos con otros, estos comandos te serán útiles:"
   ]
  },
  {
   "cell_type": "markdown",
   "id": "f55b7c9e-d9f3-45d8-a71f-93fdc671cc8b",
   "metadata": {},
   "source": [
    "__- git commit --amend:__ Te permite modificar el último commit, ya sea para corregir el mensaje o añadir más cambios que se te olvidaron."
   ]
  },
  {
   "cell_type": "code",
   "execution_count": null,
   "id": "d1dc3556-3bfe-487d-b07c-7917c044d28c",
   "metadata": {},
   "outputs": [],
   "source": [
    "git commit --amend"
   ]
  },
  {
   "cell_type": "markdown",
   "id": "65827aa5-cdab-489e-9217-73abe1ad539e",
   "metadata": {},
   "source": [
    "__- Reorganizar commits con git rebase -i:__ Esto te permite reordenar, combinar o eliminar commits antes de enviar tus cambios a un repositorio remoto."
   ]
  },
  {
   "cell_type": "code",
   "execution_count": null,
   "id": "0444fd4d-6797-4b0b-ac09-524263ad8cb0",
   "metadata": {},
   "outputs": [],
   "source": [
    "git rebase -i HEAD~3"
   ]
  },
  {
   "cell_type": "markdown",
   "id": "39874c7e-e804-4219-9a78-7dd289d07b2c",
   "metadata": {},
   "source": [
    "Esto abre una lista de los últimos 3 commits para que puedas reorganizarlos."
   ]
  },
  {
   "cell_type": "markdown",
   "id": "9d9ca50f-54f5-4d96-94f9-ba0524bbc886",
   "metadata": {},
   "source": [
    "## 6. Usar alias de Git\n",
    "\n",
    "Puedes crear alias para los comandos de Git que usas con frecuencia, ahorrando tiempo al escribir.\n",
    "\n"
   ]
  },
  {
   "cell_type": "markdown",
   "id": "1e59ad1d-fcc4-4d2a-91c7-d11771964123",
   "metadata": {},
   "source": [
    "__- Configura alias en tu configuración global de Git:__"
   ]
  },
  {
   "cell_type": "code",
   "execution_count": null,
   "id": "d5d44bb2-9167-4ae1-9a58-4a407f96ff02",
   "metadata": {},
   "outputs": [],
   "source": [
    "git config --global alias.st status\n",
    "git config --global alias.co checkout\n",
    "git config --global alias.ci commit\n",
    "git config --global alias.br branch"
   ]
  },
  {
   "cell_type": "markdown",
   "id": "1fd2793b-209d-4454-a084-8117530b69eb",
   "metadata": {},
   "source": [
    "## 7. Evita enviar datos innecesarios al repositorio\n",
    "\n",
    "Asegúrate de no incluir archivos innecesarios en tu repositorio, como archivos generados por el sistema operativo o configuraciones locales. Usa un archivo .gitignore para excluir esos archivos."
   ]
  },
  {
   "cell_type": "markdown",
   "id": "0246d36d-50ee-46d2-9404-d746a7e383fb",
   "metadata": {},
   "source": [
    "- Un ejemplo de archivo __.gitignore:__"
   ]
  },
  {
   "cell_type": "code",
   "execution_count": null,
   "id": "4ffd0741-8fa2-423b-8b22-cefd13fc1494",
   "metadata": {},
   "outputs": [],
   "source": [
    "# Archivos generados\n",
    "*.log\n",
    "*.tmp\n",
    "\n",
    "# Directorios específicos\n",
    "/node_modules\n",
    "/dist"
   ]
  },
  {
   "cell_type": "markdown",
   "id": "4f403084-36b0-482d-83d9-a95cd84a6003",
   "metadata": {},
   "source": [
    "## 8. Monitorea la salud de tu repositorio\n",
    "\n",
    "Usa git fsck y git gc para mantener tu repositorio limpio y eficiente."
   ]
  },
  {
   "cell_type": "markdown",
   "id": "df5d3c3a-2111-458b-b744-8f63b175de6a",
   "metadata": {},
   "source": [
    "__- git fsck:__ Comprueba la integridad del repositorio y encuentra errores."
   ]
  },
  {
   "cell_type": "code",
   "execution_count": null,
   "id": "6599e026-b628-4503-b841-5dc7ad41615b",
   "metadata": {},
   "outputs": [],
   "source": [
    "git fsck"
   ]
  },
  {
   "cell_type": "markdown",
   "id": "1f9fe78f-0928-42a9-87d3-6921aeb03889",
   "metadata": {},
   "source": [
    "__- git gc:__ Limpia objetos innecesarios y optimiza el espacio usado por el repositorio."
   ]
  },
  {
   "cell_type": "code",
   "execution_count": null,
   "id": "f92acebb-6757-43da-800b-e0c377ab8942",
   "metadata": {},
   "outputs": [],
   "source": [
    "git gc"
   ]
  },
  {
   "cell_type": "markdown",
   "id": "ad781d91-d24a-4cc8-857b-2b44616e35a9",
   "metadata": {},
   "source": [
    "## 9. Colaboración eficiente\n",
    "\n",
    "__- Revisa el código con pull requests o merge requests:__ En plataformas como GitHub, GitLab o Bitbucket, es recomendable crear pull requests para que otros revisen tu código antes de fusionarlo en main.\n",
    "\n",
    "__- Evita conflictos:__ Mantén tu rama actualizada frecuentemente con la rama principal para evitar conflictos durante la fusión."
   ]
  },
  {
   "cell_type": "code",
   "execution_count": null,
   "id": "523cf8fe-fd54-42c6-bdee-d0607cb6a8f9",
   "metadata": {},
   "outputs": [],
   "source": [
    "git fetch origin\n",
    "git rebase origin/main"
   ]
  },
  {
   "cell_type": "markdown",
   "id": "dffbd44f-1c18-4fc7-9c94-4a4f394f8b45",
   "metadata": {},
   "source": [
    "## 10. Usa herramientas gráficas de Git\n",
    "\n",
    "Si prefieres trabajar con una interfaz gráfica, hay herramientas como GitKraken, Sourcetree o la interfaz gráfica de GitHub Desktop que te permiten visualizar mejor los commits, ramas y conflictos, lo que facilita el manejo del historial y las fusiones."
   ]
  },
  {
   "cell_type": "markdown",
   "id": "ff07c4d3-93eb-4d8f-abdc-57469caf8563",
   "metadata": {},
   "source": [
    "## Recursos adicionales"
   ]
  },
  {
   "cell_type": "markdown",
   "id": "1e794ef3-a0eb-4056-9d56-ebd6216909ef",
   "metadata": {},
   "source": [
    "https://drive.google.com/file/d/1wl9I1Y0Rj9vXAy3IdfspCVD1HCOkvq6F/view?usp=drive_link"
   ]
  },
  {
   "cell_type": "markdown",
   "id": "e789bdf7-4fed-4f00-b089-a7d1ec3880c8",
   "metadata": {},
   "source": [
    "https://www.freecodecamp.org/espanol/news/hoja-de-referencia-de-git-50-comandos-de-git-que-debe-conocer-2/"
   ]
  },
  {
   "cell_type": "code",
   "execution_count": null,
   "id": "ceb26b90-a0c9-48a1-b859-cecf48486c7b",
   "metadata": {},
   "outputs": [],
   "source": []
  }
 ],
 "metadata": {
  "kernelspec": {
   "display_name": "Python 3 (ipykernel)",
   "language": "python",
   "name": "python3"
  },
  "language_info": {
   "codemirror_mode": {
    "name": "ipython",
    "version": 3
   },
   "file_extension": ".py",
   "mimetype": "text/x-python",
   "name": "python",
   "nbconvert_exporter": "python",
   "pygments_lexer": "ipython3",
   "version": "3.10.12"
  }
 },
 "nbformat": 4,
 "nbformat_minor": 5
}
